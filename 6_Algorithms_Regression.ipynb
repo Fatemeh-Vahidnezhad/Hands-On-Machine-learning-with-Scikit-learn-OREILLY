{
 "cells": [
  {
   "cell_type": "code",
   "execution_count": 1,
   "metadata": {},
   "outputs": [],
   "source": [
    "import numpy as np\n",
    "import matplotlib.pyplot as plt\n",
    "from sklearn.datasets import load_diabetes\n",
    "from sklearn.model_selection import train_test_split\n",
    "from sklearn.decomposition import PCA\n",
    "from sklearn.linear_model import LinearRegression\n",
    "from sklearn.metrics import mean_squared_error\n",
    "from sklearn.preprocessing import PolynomialFeatures\n",
    "from sklearn.model_selection import cross_val_score\n",
    "from sklearn.model_selection import cross_val_predict\n",
    "from sklearn.preprocessing import StandardScaler\n",
    "from sklearn.linear_model import SGDRegressor\n",
    "from sklearn.svm import SVR\n",
    "from sklearn.tree import DecisionTreeRegressor\n",
    "from sklearn.ensemble import RandomForestRegressor\n",
    "from sklearn.model_selection import GridSearchCV"
   ]
  },
  {
   "cell_type": "code",
   "execution_count": 3,
   "metadata": {},
   "outputs": [
    {
     "name": "stdout",
     "output_type": "stream",
     "text": [
      "10\n"
     ]
    },
    {
     "data": {
      "text/plain": [
       "(442, 10)"
      ]
     },
     "execution_count": 3,
     "metadata": {},
     "output_type": "execute_result"
    }
   ],
   "source": [
    "diabet = load_diabetes()\n",
    "print(len(diabet.feature_names))\n",
    "x = diabet.data\n",
    "y = diabet.target\n",
    "x.shape"
   ]
  },
  {
   "cell_type": "markdown",
   "metadata": {},
   "source": [
    "# StandardScaler"
   ]
  },
  {
   "cell_type": "code",
   "execution_count": 46,
   "metadata": {},
   "outputs": [
    {
     "name": "stdout",
     "output_type": "stream",
     "text": [
      "(442, 11)\n"
     ]
    }
   ],
   "source": [
    "data = np.c_[x,y]\n",
    "scaler = StandardScaler()\n",
    "scaler.fit(data)\n",
    "data_scaled = scaler.transform(data)\n",
    "print(data_scaled.shape)\n",
    "x_scal = data_scaled[:,:10]\n",
    "y_scal = data_scaled[:,-1]\n",
    "\n",
    "x_train, x_test, y_train, y_test = train_test_split(x,y, test_size = 0.25)\n",
    "x_train_scal, x_test_scal, y_train_scal, y_test_scal = train_test_split(x_scal, y_scal, test_size = 0.25)\n"
   ]
  },
  {
   "cell_type": "markdown",
   "metadata": {},
   "source": [
    "# PCA & reduce dimension"
   ]
  },
  {
   "cell_type": "code",
   "execution_count": 3,
   "metadata": {},
   "outputs": [
    {
     "name": "stdout",
     "output_type": "stream",
     "text": [
      "[0.40242142 0.14923182 0.12059623 0.09554764 0.06621856 0.06027192\n",
      " 0.05365605 0.04336832 0.00783199 0.00085605]\n",
      "8\n"
     ]
    }
   ],
   "source": [
    "pca = PCA()\n",
    "pca.fit(x)\n",
    "print(pca.explained_variance_ratio_)\n",
    "cumsum = np.cumsum(pca.explained_variance_ratio_)\n",
    "dim = np.argmax(cumsum>0.95)+1\n",
    "print(dim)"
   ]
  },
  {
   "cell_type": "markdown",
   "metadata": {},
   "source": [
    "# LinearRegression"
   ]
  },
  {
   "cell_type": "code",
   "execution_count": 113,
   "metadata": {},
   "outputs": [
    {
     "data": {
      "text/plain": [
       "0.7427024460771116"
      ]
     },
     "execution_count": 113,
     "metadata": {},
     "output_type": "execute_result"
    }
   ],
   "source": [
    "lin_reg = LinearRegression()\n",
    "#lin_reg.fit(x_train_scal, y_train_scal)\n",
    "# y_pred_lin = lin_reg.predict(x_test_scal)\n",
    "# mean_squared_error(y_test_scal, y_pred_lin)\n",
    "scoring = cross_val_score(lin_reg, x_test_scal, y_test_scal,scoring = 'neg_mean_squared_error',cv = 10)\n",
    "lin_reg_score = np.sqrt(-scoring)\n",
    "lin_reg_score.mean()"
   ]
  },
  {
   "cell_type": "markdown",
   "metadata": {},
   "source": [
    "# Polynomial Regression"
   ]
  },
  {
   "cell_type": "code",
   "execution_count": 85,
   "metadata": {},
   "outputs": [
    {
     "data": {
      "text/plain": [
       "1.4677771128560493"
      ]
     },
     "execution_count": 85,
     "metadata": {},
     "output_type": "execute_result"
    }
   ],
   "source": [
    "poly_features = PolynomialFeatures(degree = 2, include_bias= False)\n",
    "x_train_poly = poly_features.fit_transform(x_train_scal)\n",
    "#lin_reg.fit(x_train_poly,y_train_scal)\n",
    "\n",
    "x_test_poly = poly_features.fit_transform(x_test_scal)\n",
    "# y_pred_poly = lin_reg.predict(x_test_poly)\n",
    "# mean_squared_error(y_pred_poly, y_test_scal)\n",
    "scoring = cross_val_score(lin_reg, x_test_poly, y_test_scal,scoring = 'neg_mean_squared_error',cv = 10)\n",
    "lin_reg_score = np.sqrt(-scoring)\n",
    "lin_reg_score.mean()"
   ]
  },
  {
   "cell_type": "code",
   "execution_count": 112,
   "metadata": {},
   "outputs": [
    {
     "data": {
      "image/png": "[encoded data removed]",
      "text/plain": [
       "<Figure size 432x288 with 1 Axes>"
      ]
     },
     "metadata": {
      "needs_background": "light"
     },
     "output_type": "display_data"
    }
   ],
   "source": [
    "score_mean_train, score_mean_test =[], []\n",
    "for i in range(2,5):\n",
    "    poly_features = PolynomialFeatures(degree = i, include_bias= False)\n",
    "    x_train_poly = poly_features.fit_transform(x_train_scal)\n",
    "    #lin_reg.fit(x_train_poly,y_train_scal)\n",
    "    scoring_train = cross_val_score(lin_reg, x_train_poly, y_train_scal,scoring = 'neg_mean_squared_error',cv = 3)\n",
    "    lin_reg_score_train = np.sqrt(-scoring_train)\n",
    "    score_mean_train.append(lin_reg_score_train.mean())\n",
    "\n",
    "    x_test_poly = poly_features.fit_transform(x_test_scal)\n",
    "    scoring_test = cross_val_score(lin_reg, x_test_poly, y_test_scal,scoring = 'neg_mean_squared_error',cv = 3)\n",
    "    lin_reg_score_test = np.sqrt(-scoring_test)\n",
    "    score_mean_test.append(lin_reg_score_test.mean())\n",
    "    plt.plot(score_mean_test,'r--')\n",
    "    plt.plot(score_mean_train, 'b')"
   ]
  },
  {
   "cell_type": "markdown",
   "metadata": {},
   "source": [
    "# DecisionTreeRegressor"
   ]
  },
  {
   "cell_type": "code",
   "execution_count": 111,
   "metadata": {},
   "outputs": [
    {
     "data": {
      "text/plain": [
       "0.8978972574635108"
      ]
     },
     "execution_count": 111,
     "metadata": {},
     "output_type": "execute_result"
    }
   ],
   "source": [
    "tree_reg = DecisionTreeRegressor(max_depth= 3)\n",
    "#tree_reg.fit(x_train_scal, y_train_scal)\n",
    "# y_pred_tree = tree_reg.predict(x_test_scal)\n",
    "# mean_squared_error(y_test_scal, y_pred_tree)\n",
    "scoring = cross_val_score(tree_reg, x_test_scal, y_test_scal,scoring = 'neg_mean_squared_error',cv = 10)\n",
    "tree_reg_score = np.sqrt(-scoring)\n",
    "tree_reg_score.mean()"
   ]
  },
  {
   "cell_type": "markdown",
   "metadata": {},
   "source": [
    "# RandomForestRegressor"
   ]
  },
  {
   "cell_type": "code",
   "execution_count": 81,
   "metadata": {},
   "outputs": [
    {
     "data": {
      "text/plain": [
       "0.7554313510515095"
      ]
     },
     "execution_count": 81,
     "metadata": {},
     "output_type": "execute_result"
    }
   ],
   "source": [
    "rdfrst_reg = RandomForestRegressor(max_depth=3, random_state= 1234)\n",
    "#rdfrst_reg.fit(x_train_scal, y_train_scal)\n",
    "# y_pred_tree = rdfrst_reg.predict(x_test_scal)\n",
    "# mean_squared_error(y_test_scal, y_pred_tree)\n",
    "scoring = cross_val_score(rdfrst_reg, x_test_scal, y_test_scal,scoring = 'neg_mean_squared_error',cv = 10)\n",
    "rdfrst_score = np.sqrt(-scoring)\n",
    "rdfrst_score.mean()"
   ]
  },
  {
   "cell_type": "markdown",
   "metadata": {},
   "source": [
    "# SVR"
   ]
  },
  {
   "cell_type": "code",
   "execution_count": 108,
   "metadata": {},
   "outputs": [
    {
     "data": {
      "text/plain": [
       "0.7697001613733457"
      ]
     },
     "execution_count": 108,
     "metadata": {},
     "output_type": "execute_result"
    }
   ],
   "source": [
    "svr_reg = SVR(kernel = 'linear')\n",
    "#svr_reg.fit(x_train_scal, y_train_scal)\n",
    "# y_pred_svr = cross_val_predict(svr_reg, x_test_scal, y_test_scal, cv = 10)\n",
    "# y_pred_svr = svr_reg.predict(x_test_scal)\n",
    "# mean_squared_error(y_test_scal, y_pred_tree)\n",
    "scoring = cross_val_score(svr_reg, x_test_scal, y_test_scal,scoring = 'neg_mean_squared_error',cv = 10)\n",
    "svr_score = np.sqrt(-scoring)\n",
    "svr_score.mean()"
   ]
  },
  {
   "cell_type": "markdown",
   "metadata": {},
   "source": [
    "# SGDRegressor"
   ]
  },
  {
   "cell_type": "code",
   "execution_count": 109,
   "metadata": {},
   "outputs": [
    {
     "data": {
      "text/plain": [
       "0.742928812131732"
      ]
     },
     "execution_count": 109,
     "metadata": {},
     "output_type": "execute_result"
    }
   ],
   "source": [
    "sgd_reg_l1 = SGDRegressor(penalty= 'l1')\n",
    "#sgd_reg_l1.fit(x_train_scal, y_train_scal.ravel())\n",
    "# y_pred_tree = rdfrst_reg.predict(x_test_scal)\n",
    "# mean_squared_error(y_test_scal, y_pred_tree)\n",
    "scoring = cross_val_score(sgd_reg_l1, x_test_scal, y_test_scal.ravel(),scoring = 'neg_mean_squared_error',cv = 10)\n",
    "sgd_reg_l1_score = np.sqrt(-scoring)\n",
    "sgd_reg_l1_score.mean()"
   ]
  },
  {
   "cell_type": "code",
   "execution_count": 110,
   "metadata": {},
   "outputs": [
    {
     "data": {
      "text/plain": [
       "0.7444585211848688"
      ]
     },
     "execution_count": 110,
     "metadata": {},
     "output_type": "execute_result"
    }
   ],
   "source": [
    "sgd_reg_l2 = SGDRegressor(penalty= 'l2')\n",
    "#sgd_reg_l2.fit(x_train_scal, y_train_scal.ravel())\n",
    "# y_pred_tree = rdfrst_reg.predict(x_test_scal)\n",
    "# mean_squared_error(y_test_scal, y_pred_tree)\n",
    "scoring = cross_val_score(sgd_reg_l2, x_test_scal, y_test_scal.ravel(),scoring = 'neg_mean_squared_error',cv = 10)\n",
    "sgd_reg_l2_score = np.sqrt(-scoring)\n",
    "sgd_reg_l2_score.mean()"
   ]
  },
  {
   "cell_type": "markdown",
   "metadata": {},
   "source": [
    "# cross validation for all algorithms"
   ]
  },
  {
   "cell_type": "code",
   "execution_count": 114,
   "metadata": {},
   "outputs": [
    {
     "name": "stdout",
     "output_type": "stream",
     "text": [
      "minimum RMSE is: lin_reg\n"
     ]
    },
    {
     "data": {
      "image/png": "[encoded data removed]",
      "text/plain": [
       "<Figure size 432x288 with 1 Axes>"
      ]
     },
     "metadata": {
      "needs_background": "light"
     },
     "output_type": "display_data"
    }
   ],
   "source": [
    "lst = ['lin_reg', 'svr_reg', 'tree_reg', 'rdfrst_reg','sgd_reg_l2','sgd_reg_l1']\n",
    "score_train, score_test = [], []\n",
    "\n",
    "for clf in (lin_reg, svr_reg, tree_reg, rdfrst_reg,sgd_reg_l2,sgd_reg_l1):\n",
    "    #clf.fit(x_train_scal, y_train_scal)\n",
    "    #y_pred = cross_val_predict(clf,x_test_scal, y_test_scal.ravel(), cv =5)\n",
    "    \n",
    "    scoring_train = cross_val_score(clf, x_train_scal, y_train_scal,cv = 10, scoring = 'neg_mean_squared_error')\n",
    "    sqrt_score_train = np.sqrt(-scoring_train)\n",
    "    score_train.append(sqrt_score_train.mean())\n",
    "    \n",
    "    \n",
    "    scoring_test = cross_val_score(clf, x_test_scal, y_test_scal,cv = 10, scoring = 'neg_mean_squared_error')\n",
    "    sqrt_score_test = np.sqrt(-scoring_test)\n",
    "    score_test.append(sqrt_score_test.mean())\n",
    "    plt.plot(score_test,'r--')\n",
    "    plt.plot(score_train,'b')\n",
    "\n",
    "print('minimum RMSE is:',lst[np.argmin(score_test)])"
   ]
  },
  {
   "cell_type": "markdown",
   "metadata": {},
   "source": [
    "# GridSearchCV in Random Forest"
   ]
  },
  {
   "cell_type": "code",
   "execution_count": 135,
   "metadata": {},
   "outputs": [
    {
     "data": {
      "text/plain": [
       "{'bootstrap': True, 'max_features': 2, 'n_estimators': 300}"
      ]
     },
     "execution_count": 135,
     "metadata": {},
     "output_type": "execute_result"
    }
   ],
   "source": [
    "#using different parameters:\n",
    "param_grid = {'max_features': [2,4,6,8], 'n_estimators': [3,10,200,300,500],'bootstrap':[False, True]}\n",
    "rnd_frst = RandomForestRegressor()\n",
    "grid_search = GridSearchCV(rnd_frst, param_grid, cv =5, scoring = 'neg_mean_squared_error', return_train_score = True)\n",
    "grid_search.fit(x_train_scal, y_train_scal)\n",
    "\n",
    "grid_search.best_estimator_\n",
    "grid_search.best_params_"
   ]
  },
  {
   "cell_type": "code",
   "execution_count": 137,
   "metadata": {
    "scrolled": false
   },
   "outputs": [
    {
     "name": "stdout",
     "output_type": "stream",
     "text": [
      "-0.8372307592108239 {'bootstrap': False, 'max_features': 2, 'n_estimators': 3}\n",
      "-0.6421752728056395 {'bootstrap': False, 'max_features': 2, 'n_estimators': 10}\n",
      "-0.5662775750093549 {'bootstrap': False, 'max_features': 2, 'n_estimators': 200}\n",
      "-0.5585579363570001 {'bootstrap': False, 'max_features': 2, 'n_estimators': 300}\n",
      "-0.5631259746015804 {'bootstrap': False, 'max_features': 2, 'n_estimators': 500}\n",
      "-0.7885819238480398 {'bootstrap': False, 'max_features': 4, 'n_estimators': 3}\n",
      "-0.6494136216187262 {'bootstrap': False, 'max_features': 4, 'n_estimators': 10}\n",
      "-0.6110607402533093 {'bootstrap': False, 'max_features': 4, 'n_estimators': 200}\n",
      "-0.6124227379145718 {'bootstrap': False, 'max_features': 4, 'n_estimators': 300}\n",
      "-0.6133189058247066 {'bootstrap': False, 'max_features': 4, 'n_estimators': 500}\n",
      "-0.8173092514741054 {'bootstrap': False, 'max_features': 6, 'n_estimators': 3}\n",
      "-0.7287056429820102 {'bootstrap': False, 'max_features': 6, 'n_estimators': 10}\n",
      "-0.68347679860195 {'bootstrap': False, 'max_features': 6, 'n_estimators': 200}\n",
      "-0.674877796841572 {'bootstrap': False, 'max_features': 6, 'n_estimators': 300}\n",
      "-0.6721771968301575 {'bootstrap': False, 'max_features': 6, 'n_estimators': 500}\n",
      "-0.842775195368719 {'bootstrap': False, 'max_features': 8, 'n_estimators': 3}\n",
      "-0.8035552061949763 {'bootstrap': False, 'max_features': 8, 'n_estimators': 10}\n",
      "-0.7569286047624281 {'bootstrap': False, 'max_features': 8, 'n_estimators': 200}\n",
      "-0.7576496182184538 {'bootstrap': False, 'max_features': 8, 'n_estimators': 300}\n",
      "-0.7548041666499336 {'bootstrap': False, 'max_features': 8, 'n_estimators': 500}\n",
      "-0.7435410978356444 {'bootstrap': True, 'max_features': 2, 'n_estimators': 3}\n",
      "-0.5960261663815004 {'bootstrap': True, 'max_features': 2, 'n_estimators': 10}\n",
      "-0.542108314888958 {'bootstrap': True, 'max_features': 2, 'n_estimators': 200}\n",
      "-0.5412263038667051 {'bootstrap': True, 'max_features': 2, 'n_estimators': 300}\n",
      "-0.5428237858913898 {'bootstrap': True, 'max_features': 2, 'n_estimators': 500}\n",
      "-0.8060558605075994 {'bootstrap': True, 'max_features': 4, 'n_estimators': 3}\n",
      "-0.6192744986536233 {'bootstrap': True, 'max_features': 4, 'n_estimators': 10}\n",
      "-0.5576334631359556 {'bootstrap': True, 'max_features': 4, 'n_estimators': 200}\n",
      "-0.5590231614258784 {'bootstrap': True, 'max_features': 4, 'n_estimators': 300}\n",
      "-0.5582599359180361 {'bootstrap': True, 'max_features': 4, 'n_estimators': 500}\n",
      "-0.7283973539205935 {'bootstrap': True, 'max_features': 6, 'n_estimators': 3}\n",
      "-0.5993952479556507 {'bootstrap': True, 'max_features': 6, 'n_estimators': 10}\n",
      "-0.5689717020185128 {'bootstrap': True, 'max_features': 6, 'n_estimators': 200}\n",
      "-0.5630004516358754 {'bootstrap': True, 'max_features': 6, 'n_estimators': 300}\n",
      "-0.563467440993489 {'bootstrap': True, 'max_features': 6, 'n_estimators': 500}\n",
      "-0.7661296145123184 {'bootstrap': True, 'max_features': 8, 'n_estimators': 3}\n",
      "-0.6302528245548802 {'bootstrap': True, 'max_features': 8, 'n_estimators': 10}\n",
      "-0.5771674314384605 {'bootstrap': True, 'max_features': 8, 'n_estimators': 200}\n",
      "-0.5681537675299787 {'bootstrap': True, 'max_features': 8, 'n_estimators': 300}\n",
      "-0.5729814147115503 {'bootstrap': True, 'max_features': 8, 'n_estimators': 500}\n",
      "23 {'bootstrap': True, 'max_features': 2, 'n_estimators': 300}\n"
     ]
    }
   ],
   "source": [
    "cv_result = grid_search.cv_results_\n",
    "mean_scores, params = [],[]\n",
    "for mean_score ,param in zip(cv_result['mean_test_score'], cv_result['params']):\n",
    "    mean_scores.append(np.sqrt(-mean_score))\n",
    "    params.append(param)\n",
    "    print(mean_score, param)\n",
    "\n",
    "print(np.argmin(mean_scores), params[np.argmin(mean_scores)])"
   ]
  },
  {
   "cell_type": "code",
   "execution_count": null,
   "metadata": {},
   "outputs": [],
   "source": []
  },
  {
   "cell_type": "code",
   "execution_count": null,
   "metadata": {},
   "outputs": [],
   "source": []
  }
 ],
 "metadata": {
  "kernelspec": {
   "display_name": "Python 3",
   "language": "python",
   "name": "python3"
  },
  "language_info": {
   "codemirror_mode": {
    "name": "ipython",
    "version": 3
   },
   "file_extension": ".py",
   "mimetype": "text/x-python",
   "name": "python",
   "nbconvert_exporter": "python",
   "pygments_lexer": "ipython3",
   "version": "3.8.5"
  }
 },
 "nbformat": 4,
 "nbformat_minor": 2
}
