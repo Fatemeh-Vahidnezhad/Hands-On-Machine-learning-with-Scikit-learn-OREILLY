{
 "cells": [
  {
   "cell_type": "markdown",
   "metadata": {},
   "source": [
    "# voting Classifiers"
   ]
  },
  {
   "cell_type": "code",
   "execution_count": 1,
   "metadata": {},
   "outputs": [],
   "source": [
    "from sklearn.ensemble import RandomForestClassifier\n",
    "from sklearn.ensemble import VotingClassifier \n",
    "from sklearn.linear_model import LogisticRegression\n",
    "from sklearn.svm import SVC\n",
    "from sklearn.datasets import make_moons\n",
    "from sklearn.metrics import accuracy_score\n",
    "from sklearn.model_selection import train_test_split\n",
    "import numpy as np\n",
    "import matplotlib.pyplot as plt"
   ]
  },
  {
   "cell_type": "code",
   "execution_count": 2,
   "metadata": {},
   "outputs": [
    {
     "name": "stdout",
     "output_type": "stream",
     "text": [
      "[1 0 0 0 0 0 0 0 1 0 0 0 0 1 1 1 1 0 1 0]\n"
     ]
    },
    {
     "data": {
      "text/plain": [
       "80"
      ]
     },
     "execution_count": 2,
     "metadata": {},
     "output_type": "execute_result"
    }
   ],
   "source": [
    "df = make_moons()\n",
    "x = df[0]\n",
    "y = df[1]\n",
    "x_train, x_test, y_train, y_test = train_test_split(x,y, test_size = 0.2,random_state = 1234)\n",
    "print(y_test)\n",
    "len(x_train)"
   ]
  },
  {
   "cell_type": "code",
   "execution_count": 3,
   "metadata": {},
   "outputs": [],
   "source": [
    "rnd_clf = RandomForestClassifier()\n",
    "logreg_clf = LogisticRegression()\n",
    "svm_clf = SVC(probability= True)\n",
    "vot_clf = VotingClassifier(estimators=[('rf',RandomForestClassifier()),('lr',LogisticRegression()),\n",
    "                                       ('svc',SVC(probability= True))],voting='soft') #voting ='hard'\n",
    "#voting = 'soft' has higher performance than 'hard', it gives more weight to highly confident votes.\n",
    "#in svm algorithm, we should use probability = True for using voing = 'soft'"
   ]
  },
  {
   "cell_type": "code",
   "execution_count": 4,
   "metadata": {},
   "outputs": [
    {
     "name": "stdout",
     "output_type": "stream",
     "text": [
      "RandomForestClassifier : 0.9\n",
      "[[0.19 0.81]\n",
      " [1.   0.  ]\n",
      " [0.99 0.01]\n",
      " [0.93 0.07]\n",
      " [0.46 0.54]\n",
      " [0.32 0.68]\n",
      " [0.6  0.4 ]\n",
      " [0.99 0.01]\n",
      " [0.15 0.85]\n",
      " [0.69 0.31]\n",
      " [1.   0.  ]\n",
      " [0.91 0.09]\n",
      " [0.99 0.01]\n",
      " [0.16 0.84]\n",
      " [0.   1.  ]\n",
      " [0.02 0.98]\n",
      " [0.   1.  ]\n",
      " [0.65 0.35]\n",
      " [0.   1.  ]\n",
      " [0.92 0.08]] \n",
      "\n",
      "LogisticRegression : 0.7\n",
      "[[0.49075232 0.50924768]\n",
      " [0.93502133 0.06497867]\n",
      " [0.62392656 0.37607344]\n",
      " [0.91193957 0.08806043]\n",
      " [0.19320731 0.80679269]\n",
      " [0.16659019 0.83340981]\n",
      " [0.33910033 0.66089967]\n",
      " [0.74267209 0.25732791]\n",
      " [0.44172877 0.55827123]\n",
      " [0.43198551 0.56801449]\n",
      " [0.93457032 0.06542968]\n",
      " [0.86346039 0.13653961]\n",
      " [0.66709775 0.33290225]\n",
      " [0.58764435 0.41235565]\n",
      " [0.03609238 0.96390762]\n",
      " [0.26616809 0.73383191]\n",
      " [0.09748603 0.90251397]\n",
      " [0.29689254 0.70310746]\n",
      " [0.03828589 0.96171411]\n",
      " [0.89193153 0.10806847]] \n",
      "\n",
      "SVC : 0.95\n",
      "[[0.01227205 0.98772795]\n",
      " [0.97364561 0.02635439]\n",
      " [0.98048029 0.01951971]\n",
      " [0.97591615 0.02408385]\n",
      " [0.56703799 0.43296201]\n",
      " [0.42245808 0.57754192]\n",
      " [0.91254635 0.08745365]\n",
      " [0.98236854 0.01763146]\n",
      " [0.00945947 0.99054053]\n",
      " [0.95570706 0.04429294]\n",
      " [0.97407773 0.02592227]\n",
      " [0.97747287 0.02252713]\n",
      " [0.98185376 0.01814624]\n",
      " [0.02555406 0.97444594]\n",
      " [0.01626185 0.98373815]\n",
      " [0.00644415 0.99355585]\n",
      " [0.0119165  0.9880835 ]\n",
      " [0.86808725 0.13191275]\n",
      " [0.01627268 0.98372732]\n",
      " [0.97698582 0.02301418]] \n",
      "\n",
      "VotingClassifier : 0.9\n",
      "[[0.23845181 0.76154819]\n",
      " [0.97006975 0.02993025]\n",
      " [0.8618241  0.1381759 ]\n",
      " [0.93974566 0.06025434]\n",
      " [0.4088304  0.5911696 ]\n",
      " [0.33274305 0.66725695]\n",
      " [0.61258902 0.38741098]\n",
      " [0.8986597  0.1013403 ]\n",
      " [0.19767789 0.80232211]\n",
      " [0.71018958 0.28981042]\n",
      " [0.97005318 0.02994682]\n",
      " [0.91406851 0.08593149]\n",
      " [0.87664146 0.12335854]\n",
      " [0.27255234 0.72744766]\n",
      " [0.01844996 0.98155004]\n",
      " [0.10130563 0.89869437]\n",
      " [0.04055769 0.95944231]\n",
      " [0.60483586 0.39516414]\n",
      " [0.01918533 0.98081467]\n",
      " [0.93007453 0.06992547]] \n",
      "\n"
     ]
    }
   ],
   "source": [
    "for clf in (rnd_clf, logreg_clf, svm_clf, vot_clf):\n",
    "    clf.fit(x_train,y_train)\n",
    "    y_pred = clf.predict(x_test)\n",
    "    print(clf.__class__.__name__,':', accuracy_score(y_pred,y_test))\n",
    "    print(clf.predict_proba(x_test),'\\n')\n",
    "    "
   ]
  },
  {
   "cell_type": "code",
   "execution_count": 5,
   "metadata": {},
   "outputs": [
    {
     "data": {
      "image/png": "[encoded data removed]",
      "text/plain": [
       "<Figure size 864x864 with 4 Axes>"
      ]
     },
     "metadata": {
      "needs_background": "light"
     },
     "output_type": "display_data"
    }
   ],
   "source": [
    "x = x_test\n",
    "y = y_test\n",
    "x0_min, x0_max = min(x[:,0]) - 0.5, max(x[:,0]) + 0.5\n",
    "x1_min, x1_max = min(x[:,1]) - 0.5, max(x[:,1]) + 0.5\n",
    "xx, yy = np.meshgrid(np.arange(x0_min, x0_max,0.02),np.arange(x1_min, x1_max,0.02))\n",
    "i = 0\n",
    "plt.figure(figsize=(12,12))\n",
    "for clf in (rnd_clf, logreg_clf, svm_clf, vot_clf):\n",
    "    i += 1\n",
    "    clf.fit(x,y)\n",
    "    y_pred = clf.predict(x)\n",
    "    z = clf.predict(np.c_[xx.ravel(), yy.ravel()])\n",
    "    Z = z.reshape((xx.shape))\n",
    "    accuracy = accuracy_score(y,y_pred)\n",
    "    plt.subplot(2,2,i)\n",
    "    plt.contourf(xx,yy,Z)\n",
    "    plt.scatter(x[:,0],x[:,1])\n",
    "    plt.title('algorithm: {}, accuracy:{}'.format(clf.__class__.__name__,accuracy))\n",
    "    #plt.title(accuracy)\n",
    "    "
   ]
  },
  {
   "cell_type": "markdown",
   "metadata": {},
   "source": [
    "# Bagging and Pasting"
   ]
  },
  {
   "cell_type": "raw",
   "metadata": {},
   "source": [
    "bagging: choosing some samples from training set with replacement. training that data in a model. this method can reduce \n",
    "pasting: choosing some samples from trainnig set without replacement. training that data in a model.\n",
    "ensembel prediction makes better prediction than using a model in all trainnig set. it has smaller variance\n",
    "oob(out of bagging): the percentage of instance in training set that they are not used in the bagging classifier. "
   ]
  },
  {
   "cell_type": "code",
   "execution_count": 6,
   "metadata": {},
   "outputs": [],
   "source": [
    "from sklearn.tree import DecisionTreeClassifier\n",
    "from sklearn.ensemble import BaggingClassifier\n",
    "from sklearn.metrics import accuracy_score"
   ]
  },
  {
   "cell_type": "code",
   "execution_count": null,
   "metadata": {},
   "outputs": [],
   "source": [
    "#using DecisionTreeClassifier algorithm without using bagging and pasting method:\n",
    "tree_clf = DecisionTreeClassifier(random_state= 1234)\n",
    "tree_clf.fit(x_train, y_train)\n",
    "y_pred = tree_clf.predict(x_train)\n"
   ]
  },
  {
   "cell_type": "code",
   "execution_count": 22,
   "metadata": {
    "scrolled": true
   },
   "outputs": [
    {
     "name": "stdout",
     "output_type": "stream",
     "text": [
      "0.875\n",
      "0.9125\n",
      "[[0.6        0.4       ]\n",
      " [0.         1.        ]\n",
      " [0.53333333 0.46666667]\n",
      " [0.         1.        ]\n",
      " [0.14285714 0.85714286]\n",
      " [1.         0.        ]\n",
      " [0.73770492 0.26229508]\n",
      " [0.01515152 0.98484848]\n",
      " [1.         0.        ]\n",
      " [0.         1.        ]\n",
      " [0.         1.        ]\n",
      " [0.42424242 0.57575758]\n",
      " [0.01538462 0.98461538]\n",
      " [0.90163934 0.09836066]\n",
      " [0.         1.        ]\n",
      " [0.125      0.875     ]\n",
      " [0.68333333 0.31666667]\n",
      " [0.94827586 0.05172414]\n",
      " [0.06451613 0.93548387]\n",
      " [0.23728814 0.76271186]\n",
      " [0.77419355 0.22580645]\n",
      " [0.95       0.05      ]\n",
      " [0.29230769 0.70769231]\n",
      " [0.984375   0.015625  ]\n",
      " [0.02816901 0.97183099]\n",
      " [0.015625   0.984375  ]\n",
      " [0.9516129  0.0483871 ]\n",
      " [0.06349206 0.93650794]\n",
      " [0.22727273 0.77272727]\n",
      " [0.01724138 0.98275862]\n",
      " [0.10606061 0.89393939]\n",
      " [0.41176471 0.58823529]\n",
      " [0.359375   0.640625  ]\n",
      " [0.01639344 0.98360656]\n",
      " [1.         0.        ]\n",
      " [1.         0.        ]\n",
      " [0.17741935 0.82258065]\n",
      " [0.27272727 0.72727273]\n",
      " [0.         1.        ]\n",
      " [0.30645161 0.69354839]\n",
      " [0.15625    0.84375   ]\n",
      " [1.         0.        ]\n",
      " [0.86764706 0.13235294]\n",
      " [0.01612903 0.98387097]\n",
      " [0.30769231 0.69230769]\n",
      " [0.359375   0.640625  ]\n",
      " [1.         0.        ]\n",
      " [0.32758621 0.67241379]\n",
      " [0.58333333 0.41666667]\n",
      " [0.94827586 0.05172414]\n",
      " [0.01639344 0.98360656]\n",
      " [0.82089552 0.17910448]\n",
      " [0.03278689 0.96721311]\n",
      " [0.08474576 0.91525424]\n",
      " [0.30769231 0.69230769]\n",
      " [0.         1.        ]\n",
      " [0.96721311 0.03278689]\n",
      " [0.14516129 0.85483871]\n",
      " [0.78181818 0.21818182]\n",
      " [1.         0.        ]\n",
      " [0.98181818 0.01818182]\n",
      " [1.         0.        ]\n",
      " [0.1641791  0.8358209 ]\n",
      " [0.18965517 0.81034483]\n",
      " [0.55172414 0.44827586]\n",
      " [1.         0.        ]\n",
      " [0.98550725 0.01449275]\n",
      " [0.         1.        ]\n",
      " [1.         0.        ]\n",
      " [0.98461538 0.01538462]\n",
      " [0.09677419 0.90322581]\n",
      " [0.12698413 0.87301587]\n",
      " [0.         1.        ]\n",
      " [1.         0.        ]\n",
      " [0.06451613 0.93548387]\n",
      " [0.9047619  0.0952381 ]\n",
      " [0.11290323 0.88709677]\n",
      " [0.59375    0.40625   ]\n",
      " [0.98360656 0.01639344]\n",
      " [0.96610169 0.03389831]]\n"
     ]
    }
   ],
   "source": [
    "#using bagging method on DecisionTreeClassifier algorithm:\n",
    "bag_clf = BaggingClassifier(DecisionTreeClassifier(random_state = 1234),n_estimators= 80, max_samples= 20, n_jobs= -1,\n",
    "                            bootstrap= True, oob_score= True)# True:bagging, False = pasting\n",
    "bag_clf.fit(x_train, y_train)\n",
    "y_pred = bag_clf.predict(x_train)\n",
    "\n",
    "print (bag_clf.oob_score_) #the average pecentage of instance in training sets that they are used in the model.\n",
    "print (accuracy_score(y_pred, y_train))\n",
    "print(bag_clf.oob_decision_function_)\n"
   ]
  },
  {
   "cell_type": "code",
   "execution_count": 16,
   "metadata": {},
   "outputs": [
    {
     "data": {
      "image/png": "[encoded data removed]",
      "text/plain": [
       "<Figure size 720x720 with 2 Axes>"
      ]
     },
     "metadata": {
      "needs_background": "light"
     },
     "output_type": "display_data"
    }
   ],
   "source": [
    "x = x_train\n",
    "y = y_train\n",
    "x0_min, x0_max = min(x[:,0]) - 0.5, max(x[:,0]) + 0.5\n",
    "x1_min, x1_max = min(x[:,1]) - 0.5, max(x[:,1]) + 0.5\n",
    "xx, yy = np.meshgrid(np.arange(x0_min, x0_max,0.02),np.arange(x1_min, x1_max,0.02))\n",
    "i = 0\n",
    "plt.figure(figsize=(10,10))\n",
    "for clf in (tree_clf, bag_clf):\n",
    "    i += 1\n",
    "    clf.fit(x,y)\n",
    "    y_pred = clf.predict(x)\n",
    "    z = clf.predict(np.c_[xx.ravel(), yy.ravel()])\n",
    "    Z = z.reshape((xx.shape))\n",
    "    accuracy = accuracy_score(y,y_pred)\n",
    "    plt.subplot(1,2,i)\n",
    "    plt.contourf(xx,yy,Z)\n",
    "    plt.scatter(x[:,0],x[:,1])\n",
    "    plt.title('algorithm: {}, accuracy:{}'.format(clf.__class__.__name__,accuracy))"
   ]
  },
  {
   "cell_type": "markdown",
   "metadata": {},
   "source": [
    "# Random Forest"
   ]
  },
  {
   "cell_type": "code",
   "execution_count": null,
   "metadata": {},
   "outputs": [],
   "source": [
    "#instead of searching the best features for spliting, it searches for best features among random subset of features.\n",
    "#it has the hyperparameters of decision tree classifiers and bagging classifiers for conrolling ensemble."
   ]
  },
  {
   "cell_type": "code",
   "execution_count": 7,
   "metadata": {},
   "outputs": [],
   "source": [
    "from sklearn.ensemble import RandomForestClassifier"
   ]
  },
  {
   "cell_type": "code",
   "execution_count": 25,
   "metadata": {},
   "outputs": [],
   "source": [
    "rnf_clf = RandomForestClassifier(n_estimators= 80, max_leaf_nodes=5, n_jobs= -1)\n",
    "rnf_clf.fit(x_train, y_train)\n",
    "y_pred_rnf = rnf_clf.predict(x_test)"
   ]
  },
  {
   "cell_type": "markdown",
   "metadata": {},
   "source": [
    "# Feature importance"
   ]
  },
  {
   "cell_type": "raw",
   "metadata": {},
   "source": [
    "random forest computes the importance of every feature between 0 and 1 by looking at how much the tree nodes that use that\n",
    "feature reduce impurity on average(across all tree in forest). \n",
    "it is weight average, where each node's weight is equal to number of training samples that are associated with it."
   ]
  },
  {
   "cell_type": "code",
   "execution_count": 8,
   "metadata": {},
   "outputs": [],
   "source": [
    "from sklearn.datasets import load_iris"
   ]
  },
  {
   "cell_type": "code",
   "execution_count": 9,
   "metadata": {},
   "outputs": [
    {
     "data": {
      "text/plain": [
       "['sepal length (cm)',\n",
       " 'sepal width (cm)',\n",
       " 'petal length (cm)',\n",
       " 'petal width (cm)']"
      ]
     },
     "execution_count": 9,
     "metadata": {},
     "output_type": "execute_result"
    }
   ],
   "source": [
    "iris = load_iris()\n",
    "x = iris.data\n",
    "y = iris.target\n",
    "iris.feature_names"
   ]
  },
  {
   "cell_type": "code",
   "execution_count": 10,
   "metadata": {},
   "outputs": [
    {
     "name": "stdout",
     "output_type": "stream",
     "text": [
      "sepal length (cm) : 0.09844997716176992\n",
      "sepal width (cm) : 0.024723743758826203\n",
      "petal length (cm) : 0.41958567755805287\n",
      "petal width (cm) : 0.457240601521351\n"
     ]
    }
   ],
   "source": [
    "rnf_clf = RandomForestClassifier(n_estimators= 500, n_jobs= -1)\n",
    "rnf_clf.fit(x,y)\n",
    "for (i,j) in zip(iris.feature_names,rnf_clf.feature_importances_):\n",
    "    print(i,':',j)"
   ]
  },
  {
   "cell_type": "code",
   "execution_count": 14,
   "metadata": {},
   "outputs": [],
   "source": [
    "from sklearn.datasets import fetch_openml"
   ]
  },
  {
   "cell_type": "code",
   "execution_count": 12,
   "metadata": {},
   "outputs": [],
   "source": [
    "mnist = fetch_openml(\"mnist_784\",version = 1)"
   ]
  },
  {
   "cell_type": "code",
   "execution_count": 15,
   "metadata": {},
   "outputs": [],
   "source": [
    "X = mnist.data\n",
    "Y = mnist.target"
   ]
  },
  {
   "cell_type": "code",
   "execution_count": 16,
   "metadata": {},
   "outputs": [
    {
     "ename": "KeyboardInterrupt",
     "evalue": "",
     "output_type": "error",
     "traceback": [
      "\u001b[1;31m---------------------------------------------------------------------------\u001b[0m",
      "\u001b[1;31mKeyboardInterrupt\u001b[0m                         Traceback (most recent call last)",
      "\u001b[1;32m<ipython-input-16-9cf76f78a09c>\u001b[0m in \u001b[0;36m<module>\u001b[1;34m\u001b[0m\n\u001b[1;32m----> 1\u001b[1;33m \u001b[0mrnf_clf\u001b[0m\u001b[1;33m.\u001b[0m\u001b[0mfit\u001b[0m\u001b[1;33m(\u001b[0m\u001b[0mX\u001b[0m\u001b[1;33m,\u001b[0m \u001b[0mY\u001b[0m\u001b[1;33m)\u001b[0m\u001b[1;33m\u001b[0m\u001b[1;33m\u001b[0m\u001b[0m\n\u001b[0m\u001b[0;32m      2\u001b[0m \u001b[1;32mfor\u001b[0m \u001b[1;33m(\u001b[0m\u001b[0mi\u001b[0m\u001b[1;33m,\u001b[0m\u001b[0mj\u001b[0m\u001b[1;33m)\u001b[0m \u001b[1;32min\u001b[0m \u001b[0mzip\u001b[0m\u001b[1;33m(\u001b[0m\u001b[0mmnist\u001b[0m\u001b[1;33m.\u001b[0m\u001b[0mfeature_names\u001b[0m\u001b[1;33m,\u001b[0m\u001b[0mrnf_clf\u001b[0m\u001b[1;33m.\u001b[0m\u001b[0mfeature_importances_\u001b[0m\u001b[1;33m)\u001b[0m\u001b[1;33m:\u001b[0m\u001b[1;33m\u001b[0m\u001b[1;33m\u001b[0m\u001b[0m\n\u001b[0;32m      3\u001b[0m     \u001b[0mprint\u001b[0m\u001b[1;33m(\u001b[0m\u001b[0mi\u001b[0m\u001b[1;33m,\u001b[0m\u001b[1;34m':'\u001b[0m\u001b[1;33m,\u001b[0m\u001b[0mj\u001b[0m\u001b[1;33m)\u001b[0m\u001b[1;33m\u001b[0m\u001b[1;33m\u001b[0m\u001b[0m\n",
      "\u001b[1;32m~\\Anaconda3\\lib\\site-packages\\sklearn\\ensemble\\_forest.py\u001b[0m in \u001b[0;36mfit\u001b[1;34m(self, X, y, sample_weight)\u001b[0m\n\u001b[0;32m    390\u001b[0m                     \u001b[0mverbose\u001b[0m\u001b[1;33m=\u001b[0m\u001b[0mself\u001b[0m\u001b[1;33m.\u001b[0m\u001b[0mverbose\u001b[0m\u001b[1;33m,\u001b[0m \u001b[0mclass_weight\u001b[0m\u001b[1;33m=\u001b[0m\u001b[0mself\u001b[0m\u001b[1;33m.\u001b[0m\u001b[0mclass_weight\u001b[0m\u001b[1;33m,\u001b[0m\u001b[1;33m\u001b[0m\u001b[1;33m\u001b[0m\u001b[0m\n\u001b[0;32m    391\u001b[0m                     n_samples_bootstrap=n_samples_bootstrap)\n\u001b[1;32m--> 392\u001b[1;33m                 for i, t in enumerate(trees))\n\u001b[0m\u001b[0;32m    393\u001b[0m \u001b[1;33m\u001b[0m\u001b[0m\n\u001b[0;32m    394\u001b[0m             \u001b[1;31m# Collect newly grown trees\u001b[0m\u001b[1;33m\u001b[0m\u001b[1;33m\u001b[0m\u001b[1;33m\u001b[0m\u001b[0m\n",
      "\u001b[1;32m~\\Anaconda3\\lib\\site-packages\\joblib\\parallel.py\u001b[0m in \u001b[0;36m__call__\u001b[1;34m(self, iterable)\u001b[0m\n\u001b[0;32m    932\u001b[0m \u001b[1;33m\u001b[0m\u001b[0m\n\u001b[0;32m    933\u001b[0m             \u001b[1;32mwith\u001b[0m \u001b[0mself\u001b[0m\u001b[1;33m.\u001b[0m\u001b[0m_backend\u001b[0m\u001b[1;33m.\u001b[0m\u001b[0mretrieval_context\u001b[0m\u001b[1;33m(\u001b[0m\u001b[1;33m)\u001b[0m\u001b[1;33m:\u001b[0m\u001b[1;33m\u001b[0m\u001b[1;33m\u001b[0m\u001b[0m\n\u001b[1;32m--> 934\u001b[1;33m                 \u001b[0mself\u001b[0m\u001b[1;33m.\u001b[0m\u001b[0mretrieve\u001b[0m\u001b[1;33m(\u001b[0m\u001b[1;33m)\u001b[0m\u001b[1;33m\u001b[0m\u001b[1;33m\u001b[0m\u001b[0m\n\u001b[0m\u001b[0;32m    935\u001b[0m             \u001b[1;31m# Make sure that we get a last message telling us we are done\u001b[0m\u001b[1;33m\u001b[0m\u001b[1;33m\u001b[0m\u001b[1;33m\u001b[0m\u001b[0m\n\u001b[0;32m    936\u001b[0m             \u001b[0melapsed_time\u001b[0m \u001b[1;33m=\u001b[0m \u001b[0mtime\u001b[0m\u001b[1;33m.\u001b[0m\u001b[0mtime\u001b[0m\u001b[1;33m(\u001b[0m\u001b[1;33m)\u001b[0m \u001b[1;33m-\u001b[0m \u001b[0mself\u001b[0m\u001b[1;33m.\u001b[0m\u001b[0m_start_time\u001b[0m\u001b[1;33m\u001b[0m\u001b[1;33m\u001b[0m\u001b[0m\n",
      "\u001b[1;32m~\\Anaconda3\\lib\\site-packages\\joblib\\parallel.py\u001b[0m in \u001b[0;36mretrieve\u001b[1;34m(self)\u001b[0m\n\u001b[0;32m    831\u001b[0m             \u001b[1;32mtry\u001b[0m\u001b[1;33m:\u001b[0m\u001b[1;33m\u001b[0m\u001b[1;33m\u001b[0m\u001b[0m\n\u001b[0;32m    832\u001b[0m                 \u001b[1;32mif\u001b[0m \u001b[0mgetattr\u001b[0m\u001b[1;33m(\u001b[0m\u001b[0mself\u001b[0m\u001b[1;33m.\u001b[0m\u001b[0m_backend\u001b[0m\u001b[1;33m,\u001b[0m \u001b[1;34m'supports_timeout'\u001b[0m\u001b[1;33m,\u001b[0m \u001b[1;32mFalse\u001b[0m\u001b[1;33m)\u001b[0m\u001b[1;33m:\u001b[0m\u001b[1;33m\u001b[0m\u001b[1;33m\u001b[0m\u001b[0m\n\u001b[1;32m--> 833\u001b[1;33m                     \u001b[0mself\u001b[0m\u001b[1;33m.\u001b[0m\u001b[0m_output\u001b[0m\u001b[1;33m.\u001b[0m\u001b[0mextend\u001b[0m\u001b[1;33m(\u001b[0m\u001b[0mjob\u001b[0m\u001b[1;33m.\u001b[0m\u001b[0mget\u001b[0m\u001b[1;33m(\u001b[0m\u001b[0mtimeout\u001b[0m\u001b[1;33m=\u001b[0m\u001b[0mself\u001b[0m\u001b[1;33m.\u001b[0m\u001b[0mtimeout\u001b[0m\u001b[1;33m)\u001b[0m\u001b[1;33m)\u001b[0m\u001b[1;33m\u001b[0m\u001b[1;33m\u001b[0m\u001b[0m\n\u001b[0m\u001b[0;32m    834\u001b[0m                 \u001b[1;32melse\u001b[0m\u001b[1;33m:\u001b[0m\u001b[1;33m\u001b[0m\u001b[1;33m\u001b[0m\u001b[0m\n\u001b[0;32m    835\u001b[0m                     \u001b[0mself\u001b[0m\u001b[1;33m.\u001b[0m\u001b[0m_output\u001b[0m\u001b[1;33m.\u001b[0m\u001b[0mextend\u001b[0m\u001b[1;33m(\u001b[0m\u001b[0mjob\u001b[0m\u001b[1;33m.\u001b[0m\u001b[0mget\u001b[0m\u001b[1;33m(\u001b[0m\u001b[1;33m)\u001b[0m\u001b[1;33m)\u001b[0m\u001b[1;33m\u001b[0m\u001b[1;33m\u001b[0m\u001b[0m\n",
      "\u001b[1;32m~\\Anaconda3\\lib\\multiprocessing\\pool.py\u001b[0m in \u001b[0;36mget\u001b[1;34m(self, timeout)\u001b[0m\n\u001b[0;32m    649\u001b[0m \u001b[1;33m\u001b[0m\u001b[0m\n\u001b[0;32m    650\u001b[0m     \u001b[1;32mdef\u001b[0m \u001b[0mget\u001b[0m\u001b[1;33m(\u001b[0m\u001b[0mself\u001b[0m\u001b[1;33m,\u001b[0m \u001b[0mtimeout\u001b[0m\u001b[1;33m=\u001b[0m\u001b[1;32mNone\u001b[0m\u001b[1;33m)\u001b[0m\u001b[1;33m:\u001b[0m\u001b[1;33m\u001b[0m\u001b[1;33m\u001b[0m\u001b[0m\n\u001b[1;32m--> 651\u001b[1;33m         \u001b[0mself\u001b[0m\u001b[1;33m.\u001b[0m\u001b[0mwait\u001b[0m\u001b[1;33m(\u001b[0m\u001b[0mtimeout\u001b[0m\u001b[1;33m)\u001b[0m\u001b[1;33m\u001b[0m\u001b[1;33m\u001b[0m\u001b[0m\n\u001b[0m\u001b[0;32m    652\u001b[0m         \u001b[1;32mif\u001b[0m \u001b[1;32mnot\u001b[0m \u001b[0mself\u001b[0m\u001b[1;33m.\u001b[0m\u001b[0mready\u001b[0m\u001b[1;33m(\u001b[0m\u001b[1;33m)\u001b[0m\u001b[1;33m:\u001b[0m\u001b[1;33m\u001b[0m\u001b[1;33m\u001b[0m\u001b[0m\n\u001b[0;32m    653\u001b[0m             \u001b[1;32mraise\u001b[0m \u001b[0mTimeoutError\u001b[0m\u001b[1;33m\u001b[0m\u001b[1;33m\u001b[0m\u001b[0m\n",
      "\u001b[1;32m~\\Anaconda3\\lib\\multiprocessing\\pool.py\u001b[0m in \u001b[0;36mwait\u001b[1;34m(self, timeout)\u001b[0m\n\u001b[0;32m    646\u001b[0m \u001b[1;33m\u001b[0m\u001b[0m\n\u001b[0;32m    647\u001b[0m     \u001b[1;32mdef\u001b[0m \u001b[0mwait\u001b[0m\u001b[1;33m(\u001b[0m\u001b[0mself\u001b[0m\u001b[1;33m,\u001b[0m \u001b[0mtimeout\u001b[0m\u001b[1;33m=\u001b[0m\u001b[1;32mNone\u001b[0m\u001b[1;33m)\u001b[0m\u001b[1;33m:\u001b[0m\u001b[1;33m\u001b[0m\u001b[1;33m\u001b[0m\u001b[0m\n\u001b[1;32m--> 648\u001b[1;33m         \u001b[0mself\u001b[0m\u001b[1;33m.\u001b[0m\u001b[0m_event\u001b[0m\u001b[1;33m.\u001b[0m\u001b[0mwait\u001b[0m\u001b[1;33m(\u001b[0m\u001b[0mtimeout\u001b[0m\u001b[1;33m)\u001b[0m\u001b[1;33m\u001b[0m\u001b[1;33m\u001b[0m\u001b[0m\n\u001b[0m\u001b[0;32m    649\u001b[0m \u001b[1;33m\u001b[0m\u001b[0m\n\u001b[0;32m    650\u001b[0m     \u001b[1;32mdef\u001b[0m \u001b[0mget\u001b[0m\u001b[1;33m(\u001b[0m\u001b[0mself\u001b[0m\u001b[1;33m,\u001b[0m \u001b[0mtimeout\u001b[0m\u001b[1;33m=\u001b[0m\u001b[1;32mNone\u001b[0m\u001b[1;33m)\u001b[0m\u001b[1;33m:\u001b[0m\u001b[1;33m\u001b[0m\u001b[1;33m\u001b[0m\u001b[0m\n",
      "\u001b[1;32m~\\Anaconda3\\lib\\threading.py\u001b[0m in \u001b[0;36mwait\u001b[1;34m(self, timeout)\u001b[0m\n\u001b[0;32m    550\u001b[0m             \u001b[0msignaled\u001b[0m \u001b[1;33m=\u001b[0m \u001b[0mself\u001b[0m\u001b[1;33m.\u001b[0m\u001b[0m_flag\u001b[0m\u001b[1;33m\u001b[0m\u001b[1;33m\u001b[0m\u001b[0m\n\u001b[0;32m    551\u001b[0m             \u001b[1;32mif\u001b[0m \u001b[1;32mnot\u001b[0m \u001b[0msignaled\u001b[0m\u001b[1;33m:\u001b[0m\u001b[1;33m\u001b[0m\u001b[1;33m\u001b[0m\u001b[0m\n\u001b[1;32m--> 552\u001b[1;33m                 \u001b[0msignaled\u001b[0m \u001b[1;33m=\u001b[0m \u001b[0mself\u001b[0m\u001b[1;33m.\u001b[0m\u001b[0m_cond\u001b[0m\u001b[1;33m.\u001b[0m\u001b[0mwait\u001b[0m\u001b[1;33m(\u001b[0m\u001b[0mtimeout\u001b[0m\u001b[1;33m)\u001b[0m\u001b[1;33m\u001b[0m\u001b[1;33m\u001b[0m\u001b[0m\n\u001b[0m\u001b[0;32m    553\u001b[0m             \u001b[1;32mreturn\u001b[0m \u001b[0msignaled\u001b[0m\u001b[1;33m\u001b[0m\u001b[1;33m\u001b[0m\u001b[0m\n\u001b[0;32m    554\u001b[0m \u001b[1;33m\u001b[0m\u001b[0m\n",
      "\u001b[1;32m~\\Anaconda3\\lib\\threading.py\u001b[0m in \u001b[0;36mwait\u001b[1;34m(self, timeout)\u001b[0m\n\u001b[0;32m    294\u001b[0m         \u001b[1;32mtry\u001b[0m\u001b[1;33m:\u001b[0m    \u001b[1;31m# restore state no matter what (e.g., KeyboardInterrupt)\u001b[0m\u001b[1;33m\u001b[0m\u001b[1;33m\u001b[0m\u001b[0m\n\u001b[0;32m    295\u001b[0m             \u001b[1;32mif\u001b[0m \u001b[0mtimeout\u001b[0m \u001b[1;32mis\u001b[0m \u001b[1;32mNone\u001b[0m\u001b[1;33m:\u001b[0m\u001b[1;33m\u001b[0m\u001b[1;33m\u001b[0m\u001b[0m\n\u001b[1;32m--> 296\u001b[1;33m                 \u001b[0mwaiter\u001b[0m\u001b[1;33m.\u001b[0m\u001b[0macquire\u001b[0m\u001b[1;33m(\u001b[0m\u001b[1;33m)\u001b[0m\u001b[1;33m\u001b[0m\u001b[1;33m\u001b[0m\u001b[0m\n\u001b[0m\u001b[0;32m    297\u001b[0m                 \u001b[0mgotit\u001b[0m \u001b[1;33m=\u001b[0m \u001b[1;32mTrue\u001b[0m\u001b[1;33m\u001b[0m\u001b[1;33m\u001b[0m\u001b[0m\n\u001b[0;32m    298\u001b[0m             \u001b[1;32melse\u001b[0m\u001b[1;33m:\u001b[0m\u001b[1;33m\u001b[0m\u001b[1;33m\u001b[0m\u001b[0m\n",
      "\u001b[1;31mKeyboardInterrupt\u001b[0m: "
     ]
    }
   ],
   "source": [
    "rnf_clf.fit(X, Y)\n",
    "for (i,j) in zip(mnist.feature_names,rnf_clf.feature_importances_):\n",
    "    print(i,':',j)"
   ]
  },
  {
   "cell_type": "code",
   "execution_count": null,
   "metadata": {},
   "outputs": [],
   "source": []
  },
  {
   "cell_type": "code",
   "execution_count": 13,
   "metadata": {},
   "outputs": [
    {
     "ename": "ValueError",
     "evalue": "cannot reshape array of size 4 into shape (28,28)",
     "output_type": "error",
     "traceback": [
      "\u001b[1;31m---------------------------------------------------------------------------\u001b[0m",
      "\u001b[1;31mValueError\u001b[0m                                Traceback (most recent call last)",
      "\u001b[1;32m<ipython-input-13-135be2deb90e>\u001b[0m in \u001b[0;36m<module>\u001b[1;34m\u001b[0m\n\u001b[1;32m----> 1\u001b[1;33m \u001b[0mfeature_selection\u001b[0m \u001b[1;33m=\u001b[0m \u001b[0mrnf_clf\u001b[0m\u001b[1;33m.\u001b[0m\u001b[0mfeature_importances_\u001b[0m\u001b[1;33m.\u001b[0m\u001b[0mreshape\u001b[0m\u001b[1;33m(\u001b[0m\u001b[1;33m(\u001b[0m\u001b[1;36m28\u001b[0m\u001b[1;33m,\u001b[0m\u001b[1;36m28\u001b[0m\u001b[1;33m)\u001b[0m\u001b[1;33m)\u001b[0m \u001b[1;31m#reshape\u001b[0m\u001b[1;33m\u001b[0m\u001b[1;33m\u001b[0m\u001b[0m\n\u001b[0m\u001b[0;32m      2\u001b[0m \u001b[0mplt\u001b[0m\u001b[1;33m.\u001b[0m\u001b[0mfigure\u001b[0m\u001b[1;33m(\u001b[0m\u001b[0mfigsize\u001b[0m\u001b[1;33m=\u001b[0m \u001b[1;33m(\u001b[0m\u001b[1;36m10\u001b[0m\u001b[1;33m,\u001b[0m\u001b[1;36m10\u001b[0m\u001b[1;33m)\u001b[0m\u001b[1;33m)\u001b[0m\u001b[1;33m\u001b[0m\u001b[1;33m\u001b[0m\u001b[0m\n\u001b[0;32m      3\u001b[0m \u001b[0mplt\u001b[0m\u001b[1;33m.\u001b[0m\u001b[0mmatshow\u001b[0m\u001b[1;33m(\u001b[0m\u001b[0mfeature_selection\u001b[0m\u001b[1;33m)\u001b[0m            \u001b[1;31m#showing the importance of features by matshow\u001b[0m\u001b[1;33m\u001b[0m\u001b[1;33m\u001b[0m\u001b[0m\n",
      "\u001b[1;31mValueError\u001b[0m: cannot reshape array of size 4 into shape (28,28)"
     ]
    }
   ],
   "source": [
    "feature_selection = rnf_clf.feature_importances_.reshape((28,28)) #reshape\n",
    "plt.figure(figsize= (10,10))\n",
    "plt.matshow(feature_selection)            #showing the importance of features by matshow"
   ]
  },
  {
   "cell_type": "markdown",
   "metadata": {},
   "source": [
    "# Adaboost Classifier"
   ]
  },
  {
   "cell_type": "code",
   "execution_count": 49,
   "metadata": {},
   "outputs": [],
   "source": [
    "from sklearn.tree import DecisionTreeClassifier\n",
    "from sklearn.ensemble import AdaBoostClassifier\n"
   ]
  },
  {
   "cell_type": "code",
   "execution_count": 55,
   "metadata": {},
   "outputs": [],
   "source": [
    "x = make_moons()[0]\n",
    "y = make_moons()[1]"
   ]
  },
  {
   "cell_type": "code",
   "execution_count": 57,
   "metadata": {},
   "outputs": [
    {
     "data": {
      "text/plain": [
       "AdaBoostClassifier(base_estimator=DecisionTreeClassifier(max_depth=1),\n",
       "                   learning_rate=0.5, n_estimators=200)"
      ]
     },
     "execution_count": 57,
     "metadata": {},
     "output_type": "execute_result"
    }
   ],
   "source": [
    "ada_clf = AdaBoostClassifier(DecisionTreeClassifier(max_depth = 1),n_estimators= 200,\n",
    "                             algorithm= 'SAMME.R', learning_rate= 0.5)\n",
    "ada_clf.fit(x,y)"
   ]
  },
  {
   "cell_type": "code",
   "execution_count": 59,
   "metadata": {},
   "outputs": [
    {
     "data": {
      "text/plain": [
       "Text(0.5, 1.0, 'algorithm: AdaBoostClassifier, accuracy:0.88')"
      ]
     },
     "execution_count": 59,
     "metadata": {},
     "output_type": "execute_result"
    },
    {
     "data": {
      "image/png": "[encoded data removed]",
      "text/plain": [
       "<Figure size 576x576 with 1 Axes>"
      ]
     },
     "metadata": {
      "needs_background": "light"
     },
     "output_type": "display_data"
    }
   ],
   "source": [
    "x0_min, x0_max = min(x[:,0]) - 0.5, max(x[:,0]) + 0.5\n",
    "x1_min, x1_max = min(x[:,1]) - 0.5, max(x[:,1]) + 0.5\n",
    "xx, yy = np.meshgrid(np.arange(x0_min, x0_max,0.02),np.arange(x1_min, x1_max,0.02))\n",
    "\n",
    "plt.figure(figsize=(8,8))\n",
    "y_pred = ada_clf.predict(x)\n",
    "z = ada_clf.predict(np.c_[xx.ravel(), yy.ravel()])\n",
    "Z = z.reshape((xx.shape))\n",
    "accuracy = accuracy_score(y,y_pred)\n",
    "plt.contourf(xx,yy,Z)\n",
    "plt.scatter(x[:,0],x[:,1])\n",
    "plt.title('algorithm: {}, accuracy:{}'.format(ada_clf.__class__.__name__,accuracy))\n"
   ]
  },
  {
   "cell_type": "markdown",
   "metadata": {},
   "source": [
    "# Gradient Boosting"
   ]
  },
  {
   "cell_type": "raw",
   "metadata": {},
   "source": [
    "Gradient Boosting: fit the new predictor to residual error made by the previous predictor\n",
    "it uses for regression"
   ]
  },
  {
   "cell_type": "code",
   "execution_count": 115,
   "metadata": {},
   "outputs": [],
   "source": [
    "#from sklearn.model_selection import train_test_split\n",
    "from sklearn.tree import DecisionTreeRegressor"
   ]
  },
  {
   "cell_type": "code",
   "execution_count": 21,
   "metadata": {},
   "outputs": [],
   "source": [
    "x = np.random.randn(1000)\n",
    "X = np.array(x).reshape((-1,1))\n",
    "\n",
    "y = np.power(x,2) +3\n"
   ]
  },
  {
   "cell_type": "code",
   "execution_count": 22,
   "metadata": {},
   "outputs": [
    {
     "data": {
      "text/plain": [
       "<matplotlib.collections.PathCollection at 0x26b4317c0c8>"
      ]
     },
     "execution_count": 22,
     "metadata": {},
     "output_type": "execute_result"
    },
    {
     "data": {
      "image/png": "[encoded data removed]",
      "text/plain": [
       "<Figure size 432x288 with 2 Axes>"
      ]
     },
     "metadata": {
      "needs_background": "light"
     },
     "output_type": "display_data"
    }
   ],
   "source": [
    "plt.subplot(1,2,1)\n",
    "plt.scatter(x,y)\n",
    "plt.subplot(1,2,2)\n",
    "plt.scatter(X,y)"
   ]
  },
  {
   "cell_type": "code",
   "execution_count": 174,
   "metadata": {},
   "outputs": [
    {
     "data": {
      "text/plain": [
       "1000"
      ]
     },
     "execution_count": 174,
     "metadata": {},
     "output_type": "execute_result"
    }
   ],
   "source": [
    "tree_reg1 = DecisionTreeRegressor(max_depth= 2)\n",
    "tree_reg1.fit(X, y)\n",
    "y_pred2 = tree_reg1.predict(X)\n",
    "y2 = y - tree_reg1.predict(X)\n",
    "len(y2)\n",
    "len(X)"
   ]
  },
  {
   "cell_type": "code",
   "execution_count": 175,
   "metadata": {},
   "outputs": [
    {
     "data": {
      "text/plain": [
       "<matplotlib.collections.PathCollection at 0x1e60e03abc8>"
      ]
     },
     "execution_count": 175,
     "metadata": {},
     "output_type": "execute_result"
    },
    {
     "data": {
      "image/png": "[encoded data removed]",
      "text/plain": [
       "<Figure size 432x288 with 1 Axes>"
      ]
     },
     "metadata": {
      "needs_background": "light"
     },
     "output_type": "display_data"
    }
   ],
   "source": [
    "plt.scatter(X,y2)\n",
    "plt.scatter(X,y_pred2)\n",
    "plt.scatter(X,y)\n"
   ]
  },
  {
   "cell_type": "code",
   "execution_count": 176,
   "metadata": {},
   "outputs": [
    {
     "data": {
      "text/plain": [
       "<matplotlib.collections.PathCollection at 0x1e60e0aa5c8>"
      ]
     },
     "execution_count": 176,
     "metadata": {},
     "output_type": "execute_result"
    },
    {
     "data": {
      "image/png": "[encoded data removed]",
      "text/plain": [
       "<Figure size 432x288 with 1 Axes>"
      ]
     },
     "metadata": {
      "needs_background": "light"
     },
     "output_type": "display_data"
    }
   ],
   "source": [
    "tree_reg2 = DecisionTreeRegressor(max_depth= 2)\n",
    "tree_reg2.fit(X,y2)\n",
    "y_ped3 = tree_reg2.predict(X)\n",
    "y3 = y2 - tree_reg2.predict(X)\n",
    "plt.scatter(X,y3)\n",
    "plt.scatter(X,y_ped3)"
   ]
  },
  {
   "cell_type": "code",
   "execution_count": null,
   "metadata": {},
   "outputs": [],
   "source": []
  },
  {
   "cell_type": "code",
   "execution_count": 177,
   "metadata": {},
   "outputs": [
    {
     "data": {
      "text/plain": [
       "<matplotlib.collections.PathCollection at 0x1e60e10ff08>"
      ]
     },
     "execution_count": 177,
     "metadata": {},
     "output_type": "execute_result"
    },
    {
     "data": {
      "image/png": "[encoded data removed]",
      "text/plain": [
       "<Figure size 432x288 with 1 Axes>"
      ]
     },
     "metadata": {
      "needs_background": "light"
     },
     "output_type": "display_data"
    }
   ],
   "source": [
    "tree_reg3 = DecisionTreeRegressor(max_depth= 2)\n",
    "tree_reg3.fit(X,y3)\n",
    "y_pred4 = tree_reg3.predict(X)\n",
    "y4 = y3 - tree_reg3.predict(X)\n",
    "plt.scatter(X,y4)\n",
    "plt.scatter(X,y_pred4)"
   ]
  },
  {
   "cell_type": "code",
   "execution_count": 178,
   "metadata": {},
   "outputs": [
    {
     "data": {
      "text/plain": [
       "<matplotlib.collections.PathCollection at 0x1e60e17d888>"
      ]
     },
     "execution_count": 178,
     "metadata": {},
     "output_type": "execute_result"
    },
    {
     "data": {
      "image/png": "[encoded data removed]",
      "text/plain": [
       "<Figure size 432x288 with 1 Axes>"
      ]
     },
     "metadata": {
      "needs_background": "light"
     },
     "output_type": "display_data"
    }
   ],
   "source": [
    "y_pred = sum(tree.predict(X) for tree in (tree_reg1, tree_reg2, tree_reg3))\n",
    "plt.scatter(X,y)\n",
    "plt.scatter(X, y_pred)\n"
   ]
  },
  {
   "cell_type": "raw",
   "metadata": {},
   "source": [
    "#using sklearn for Gradient boosting"
   ]
  },
  {
   "cell_type": "code",
   "execution_count": 18,
   "metadata": {},
   "outputs": [],
   "source": [
    "from sklearn.ensemble import GradientBoostingRegressor\n",
    "from sklearn.metrics import mean_squared_error"
   ]
  },
  {
   "cell_type": "code",
   "execution_count": 23,
   "metadata": {},
   "outputs": [],
   "source": [
    "x_train, x_test, y_train, y_test = train_test_split(X,y, test_size = 0.2, random_state = 1234)\n",
    "gbr = GradientBoostingRegressor(max_depth= 2, n_estimators= 120)  #n_estimators : number of trees\n",
    "gbr.fit(x_train, y_train)\n",
    "y_pred = gbr.predict(x_train)"
   ]
  },
  {
   "cell_type": "code",
   "execution_count": 24,
   "metadata": {},
   "outputs": [
    {
     "name": "stdout",
     "output_type": "stream",
     "text": [
      "position of minimum value in the list: 119\n",
      "0 1.1995047817299571\n",
      "1 1.0542260767041205\n",
      "2 0.9025615409167277\n",
      "3 0.7848169633197486\n",
      "4 0.7044395371484973\n",
      "5 0.612862461170953\n",
      "6 0.528402083994171\n",
      "7 0.47759088546881584\n",
      "8 0.4200163056739889\n",
      "9 0.3798322551041555\n",
      "10 0.3251876103114382\n",
      "11 0.28534850046154725\n",
      "12 0.2600065835839378\n",
      "13 0.22757406647994052\n",
      "14 0.20461284211271363\n",
      "15 0.18192938372399073\n",
      "16 0.1670678089305248\n",
      "17 0.14696244545773843\n",
      "18 0.1341457506282812\n",
      "19 0.11613872904346127\n",
      "20 0.09859685040142122\n",
      "21 0.08975413936643331\n",
      "22 0.08198265553764818\n",
      "23 0.07236875125451221\n",
      "24 0.06300451222397901\n",
      "25 0.05803893527859984\n",
      "26 0.052078042976884446\n",
      "27 0.04743082500588919\n",
      "28 0.04197584118070999\n",
      "29 0.03972287350257478\n",
      "30 0.03624416884374849\n",
      "31 0.03195132628054833\n",
      "32 0.029426892343092606\n",
      "33 0.027216840406091024\n",
      "34 0.023786658743376862\n",
      "35 0.02214006844332796\n",
      "36 0.020226146098985143\n",
      "37 0.018878132858547933\n",
      "38 0.01766554926772285\n",
      "39 0.0158750669974746\n",
      "40 0.01513038432461973\n",
      "41 0.013828743148586436\n",
      "42 0.012966675661885918\n",
      "43 0.01159705217589163\n",
      "44 0.010843399187584367\n",
      "45 0.010122503964466203\n",
      "46 0.009029849278407297\n",
      "47 0.008492295350796207\n",
      "48 0.007965734563134305\n",
      "49 0.006973622000320715\n",
      "50 0.006705262703834936\n",
      "51 0.00629495816016413\n",
      "52 0.005949080657176991\n",
      "53 0.005618856076892165\n",
      "54 0.005065735259480133\n",
      "55 0.004797695382367426\n",
      "56 0.004378537761459214\n",
      "57 0.004218373696617786\n",
      "58 0.0039934558358996446\n",
      "59 0.0038337835492884527\n",
      "60 0.003694171420573837\n",
      "61 0.0033263574260037443\n",
      "62 0.003222023464780206\n",
      "63 0.003111237551486772\n",
      "64 0.0029533623177835965\n",
      "65 0.002746464941292348\n",
      "66 0.0026701625673586256\n",
      "67 0.002601473805680021\n",
      "68 0.002441558625429232\n",
      "69 0.0023856968619414432\n",
      "70 0.002297180482944155\n",
      "71 0.0022531006513354063\n",
      "72 0.0021860757140688093\n",
      "73 0.002138320369404462\n",
      "74 0.0020525583679861063\n",
      "75 0.0019493614579138832\n",
      "76 0.0019218024012231188\n",
      "77 0.0018909152501301067\n",
      "78 0.0018481273469495363\n",
      "79 0.0017944018362665126\n",
      "80 0.001777458436361673\n",
      "81 0.0017682267153983492\n",
      "82 0.0017578101479849286\n",
      "83 0.0017370903712858156\n",
      "84 0.0017013069632370648\n",
      "85 0.00169194933629776\n",
      "86 0.0016887330799234684\n",
      "87 0.0016549538429519838\n",
      "88 0.001648773522260301\n",
      "89 0.0016420647036981312\n",
      "90 0.0016317270575324106\n",
      "91 0.0016083873252445257\n",
      "92 0.0015802307606677616\n",
      "93 0.0015772465719856438\n",
      "94 0.001572049266764416\n",
      "95 0.001560143166630474\n",
      "96 0.0015536515350447855\n",
      "97 0.0015523576088217925\n",
      "98 0.0015411230447838825\n",
      "99 0.0015398705511376627\n",
      "100 0.0015301393245346446\n",
      "101 0.0015301275355219946\n",
      "102 0.0015215382431692326\n",
      "103 0.0015237249789665187\n",
      "104 0.0015170380581377646\n",
      "105 0.0015162875212492237\n",
      "106 0.0015167392694802803\n",
      "107 0.0015135935773761785\n",
      "108 0.0015084647134704081\n",
      "109 0.0015058752916079926\n",
      "110 0.0014957612982521545\n",
      "111 0.0014933240064277443\n",
      "112 0.001488247801662329\n",
      "113 0.0014862595601967993\n",
      "114 0.0014844597278574061\n",
      "115 0.0014812251318748343\n",
      "116 0.001474785458225656\n",
      "117 0.0014615244843702497\n",
      "118 0.0014602787179027804\n",
      "119 0.0014604224580486557\n"
     ]
    }
   ],
   "source": [
    "#finding min error of the algorithm in different trees:\n",
    "error = [mean_squared_error(y_pred,y_test) for y_pred in gbr.staged_predict(x_test)]\n",
    "print('position of minimum value in the list:' ,error.index(np.min(error))+1)\n",
    "np.min(error)\n",
    "for (i,j) in enumerate(error):\n",
    "    print(i,j)"
   ]
  },
  {
   "cell_type": "code",
   "execution_count": 25,
   "metadata": {},
   "outputs": [
    {
     "data": {
      "text/plain": [
       "3"
      ]
     },
     "execution_count": 25,
     "metadata": {},
     "output_type": "execute_result"
    }
   ],
   "source": [
    "#position of minimum value in a list, first solution:\n",
    "a = [1,2,4,0,3]\n",
    "a.index(np.min(a))"
   ]
  },
  {
   "cell_type": "code",
   "execution_count": 26,
   "metadata": {},
   "outputs": [],
   "source": [
    "#position of minimum value in a list, second solution:\n",
    "best_n_estimator = np.argmin(error)+1"
   ]
  },
  {
   "cell_type": "code",
   "execution_count": 27,
   "metadata": {},
   "outputs": [
    {
     "data": {
      "text/plain": [
       "[<matplotlib.lines.Line2D at 0x26b431a0708>]"
      ]
     },
     "execution_count": 27,
     "metadata": {},
     "output_type": "execute_result"
    },
    {
     "data": {
      "image/png": "[encoded data removed]",
      "text/plain": [
       "<Figure size 432x288 with 1 Axes>"
      ]
     },
     "metadata": {
      "needs_background": "light"
     },
     "output_type": "display_data"
    }
   ],
   "source": [
    "number_trees = np.arange(1,121)\n",
    "min_error = np.min(error)\n",
    "min_err = np.ones(120)*min_error\n",
    "plt.plot(number_trees, error)\n",
    "plt.title('validation Error')\n",
    "plt.plot(number_trees, min_err, 'b--')"
   ]
  },
  {
   "cell_type": "code",
   "execution_count": 28,
   "metadata": {},
   "outputs": [
    {
     "data": {
      "text/plain": [
       "<matplotlib.collections.PathCollection at 0x26b0106b088>"
      ]
     },
     "execution_count": 28,
     "metadata": {},
     "output_type": "execute_result"
    },
    {
     "data": {
      "image/png": "[encoded data removed]",
      "text/plain": [
       "<Figure size 432x288 with 1 Axes>"
      ]
     },
     "metadata": {
      "needs_background": "light"
     },
     "output_type": "display_data"
    }
   ],
   "source": [
    "plt.scatter(x_train, y_train)\n",
    "plt.scatter(x_train, y_pred)"
   ]
  },
  {
   "cell_type": "code",
   "execution_count": 29,
   "metadata": {},
   "outputs": [],
   "source": [
    "gbr = GradientBoostingRegressor(max_depth= 2, n_estimators= best_n_estimator)  #n_estimators : number of trees\n",
    "gbr.fit(x_train, y_train)\n",
    "y_pred2 = gbr.predict(x_test)"
   ]
  },
  {
   "cell_type": "code",
   "execution_count": 30,
   "metadata": {},
   "outputs": [
    {
     "data": {
      "text/plain": [
       "<matplotlib.collections.PathCollection at 0x26b010d5ec8>"
      ]
     },
     "execution_count": 30,
     "metadata": {},
     "output_type": "execute_result"
    },
    {
     "data": {
      "image/png": "[encoded data removed]",
      "text/plain": [
       "<Figure size 432x288 with 1 Axes>"
      ]
     },
     "metadata": {
      "needs_background": "light"
     },
     "output_type": "display_data"
    }
   ],
   "source": [
    "plt.scatter(x_test, y_test)\n",
    "plt.scatter(x_test, y_pred2)"
   ]
  },
  {
   "cell_type": "code",
   "execution_count": 287,
   "metadata": {},
   "outputs": [
    {
     "data": {
      "text/plain": [
       "(16,)"
      ]
     },
     "execution_count": 287,
     "metadata": {},
     "output_type": "execute_result"
    }
   ],
   "source": [
    "x = np.array([1,2,3,4,5,6,7,8,9,0,6,8,6,4,3,1])\n",
    "y = np.array([1,1,0,6,4,3,5,6,5,6,1,2,5,6,8,9])+ x\n",
    "y.shape"
   ]
  },
  {
   "cell_type": "code",
   "execution_count": 293,
   "metadata": {},
   "outputs": [
    {
     "data": {
      "text/plain": [
       "<matplotlib.collections.PathCollection at 0x1e60e4bcac8>"
      ]
     },
     "execution_count": 293,
     "metadata": {},
     "output_type": "execute_result"
    },
    {
     "data": {
      "image/png": "[encoded data removed]",
      "text/plain": [
       "<Figure size 432x288 with 1 Axes>"
      ]
     },
     "metadata": {
      "needs_background": "light"
     },
     "output_type": "display_data"
    }
   ],
   "source": [
    "plt.scatter(x_test,y_pred2)"
   ]
  },
  {
   "cell_type": "code",
   "execution_count": 50,
   "metadata": {},
   "outputs": [],
   "source": [
    "#iris data"
   ]
  },
  {
   "cell_type": "code",
   "execution_count": 60,
   "metadata": {},
   "outputs": [],
   "source": [
    "from sklearn.datasets import load_iris\n",
    "from sklearn.ensemble import GradientBoostingRegressor\n",
    "from sklearn.metrics import mean_squared_error"
   ]
  },
  {
   "cell_type": "code",
   "execution_count": 58,
   "metadata": {},
   "outputs": [],
   "source": [
    "iris = load_iris()\n",
    "x = iris.data \n",
    "y = iris.target\n",
    "x_train, x_test, y_train, y_test = train_test_split(x,y , test_size = 0.3, random_state = 1234)"
   ]
  },
  {
   "cell_type": "code",
   "execution_count": 57,
   "metadata": {},
   "outputs": [],
   "source": []
  },
  {
   "cell_type": "code",
   "execution_count": 91,
   "metadata": {},
   "outputs": [
    {
     "name": "stdout",
     "output_type": "stream",
     "text": [
      "0.034664753005847385\n",
      "30\n"
     ]
    }
   ],
   "source": [
    "gbr = GradientBoostingRegressor(max_depth=2, n_estimators= 500)\n",
    "gbr.fit(x_train,y_train)\n",
    "error = [mean_squared_error(y_pred,y_test) for y_pred in gbr.staged_predict(x_test)]\n",
    "print(np.min(error))\n",
    "best_n_estimator = np.argmin(error)+1\n",
    "print(best_n_estimator)\n",
    "dash_line = np.ones(500)*np.min(error)\n"
   ]
  },
  {
   "cell_type": "code",
   "execution_count": 92,
   "metadata": {},
   "outputs": [
    {
     "data": {
      "text/plain": [
       "<matplotlib.collections.PathCollection at 0x26b063dc1c8>"
      ]
     },
     "execution_count": 92,
     "metadata": {},
     "output_type": "execute_result"
    },
    {
     "data": {
      "image/png": "[encoded data removed]",
      "text/plain": [
       "<Figure size 432x288 with 1 Axes>"
      ]
     },
     "metadata": {
      "needs_background": "light"
     },
     "output_type": "display_data"
    }
   ],
   "source": [
    "plt.plot(np.arange(0,500),dash_line)\n",
    "plt.plot(np.arange(0,500),error)\n",
    "plt.scatter(best_n_estimator,np.min(error))"
   ]
  },
  {
   "cell_type": "code",
   "execution_count": 109,
   "metadata": {},
   "outputs": [
    {
     "data": {
      "text/plain": [
       "0.03611755710485269"
      ]
     },
     "execution_count": 109,
     "metadata": {},
     "output_type": "execute_result"
    }
   ],
   "source": [
    "gbr1 = GradientBoostingRegressor(max_depth=2, n_estimators= best_n_estimator)\n",
    "gbr1.fit(x_train,y_train)\n",
    "y_pred1 = gbr1.predict(x_test)\n",
    "mean_squared_error(y_pred1,y_test)"
   ]
  },
  {
   "cell_type": "code",
   "execution_count": null,
   "metadata": {},
   "outputs": [],
   "source": []
  },
  {
   "cell_type": "markdown",
   "metadata": {},
   "source": [
    "# Using PCA for reduction dimensionality"
   ]
  },
  {
   "cell_type": "code",
   "execution_count": 131,
   "metadata": {},
   "outputs": [
    {
     "name": "stdout",
     "output_type": "stream",
     "text": [
      "150\n"
     ]
    }
   ],
   "source": [
    "x_centered = x - np.mean(x,axis = 0)\n",
    "U,s,Vt = np.linalg.svd(x_centered)\n",
    "c1 = Vt.T[:,0]  #first principle component\n",
    "c2 = Vt.T[:,1]  #second principle component\n",
    "\n",
    "#creating a dataset with d dimensionality, d<current dimensionality of x:\n",
    "w2 = Vt.T[:,:2] #principle components with 2-D\n",
    "new_dataset = x_centered.dot(w2)\n",
    "new_dataset.shape\n",
    "x = new_dataset\n",
    "y = iris.target\n",
    "print(len(x))\n",
    "x_train, x_test, y_train, y_test = train_test_split(x,y , test_size = 0.3, random_state = 1234)"
   ]
  },
  {
   "cell_type": "code",
   "execution_count": 128,
   "metadata": {},
   "outputs": [
    {
     "data": {
      "text/plain": [
       "0.03578315555332333"
      ]
     },
     "execution_count": 128,
     "metadata": {},
     "output_type": "execute_result"
    }
   ],
   "source": [
    "gbr1 = GradientBoostingRegressor(max_depth=2, n_estimators= best_n_estimator)\n",
    "gbr1.fit(x_train,y_train)\n",
    "y_pred1 = gbr1.predict(x_test)\n",
    "mean_squared_error(y_pred1,y_test)"
   ]
  },
  {
   "cell_type": "markdown",
   "metadata": {},
   "source": [
    "# meshgrid and contourf"
   ]
  },
  {
   "cell_type": "code",
   "execution_count": 137,
   "metadata": {},
   "outputs": [
    {
     "data": {
      "text/plain": [
       "<matplotlib.collections.PathCollection at 0x26b064b05c8>"
      ]
     },
     "execution_count": 137,
     "metadata": {},
     "output_type": "execute_result"
    },
    {
     "data": {
      "image/png": "[encoded data removed]",
      "text/plain": [
       "<Figure size 432x288 with 1 Axes>"
      ]
     },
     "metadata": {
      "needs_background": "light"
     },
     "output_type": "display_data"
    }
   ],
   "source": [
    "x0_min, x0_max = min(x[:,0])- 0.5, max(x[:,0]) + 0.5\n",
    "x1_min, x1_max = min(x[:,1])- 0.5, max(x[:,1]) + 0.5\n",
    "xx, yy = np.meshgrid(np.arange(x0_min, x0_max ,0.02),np.arange(x1_min, x1_max ,0.02))\n",
    "z = gbr1.predict(np.c_[xx.ravel(),yy.ravel()])\n",
    "Z = z.reshape((xx.shape))\n",
    "plt.contourf(xx,yy,Z ,cmap = 'cividis') \n",
    "#cmap{tab10,binary,gray,plt.cm.gray,plt.get_cmap('jet'),magma,viridis', 'plasma', 'inferno', 'cividis'} \n",
    "# colors = ('c','r','b','m','g'),intensity = 0.5)\n",
    "plt.scatter(x[:,0],x[:,1],c = y, edgecolors='r',marker = 'o')\n"
   ]
  },
  {
   "cell_type": "code",
   "execution_count": null,
   "metadata": {},
   "outputs": [],
   "source": []
  },
  {
   "cell_type": "code",
   "execution_count": null,
   "metadata": {},
   "outputs": [],
   "source": []
  }
 ],
 "metadata": {
  "kernelspec": {
   "display_name": "Python 3",
   "language": "python",
   "name": "python3"
  },
  "language_info": {
   "codemirror_mode": {
    "name": "ipython",
    "version": 3
   },
   "file_extension": ".py",
   "mimetype": "text/x-python",
   "name": "python",
   "nbconvert_exporter": "python",
   "pygments_lexer": "ipython3",
   "version": "3.7.4"
  }
 },
 "nbformat": 4,
 "nbformat_minor": 2
}
