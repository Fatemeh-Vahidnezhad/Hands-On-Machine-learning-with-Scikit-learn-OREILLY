{
 "cells": [
  {
   "cell_type": "markdown",
   "metadata": {},
   "source": [
    "# SVM Regression"
   ]
  },
  {
   "cell_type": "code",
   "execution_count": 13,
   "metadata": {},
   "outputs": [],
   "source": [
    "import pandas as pd\n",
    "import os\n",
    "import numpy as np"
   ]
  },
  {
   "cell_type": "code",
   "execution_count": 5,
   "metadata": {},
   "outputs": [],
   "source": [
    "os.chdir(r'C:\\Users\\fatem\\Downloads\\housekeeping_genes')"
   ]
  },
  {
   "cell_type": "code",
   "execution_count": 43,
   "metadata": {},
   "outputs": [
    {
     "data": {
      "text/html": [
       "<div>\n",
       "<style scoped>\n",
       "    .dataframe tbody tr th:only-of-type {\n",
       "        vertical-align: middle;\n",
       "    }\n",
       "\n",
       "    .dataframe tbody tr th {\n",
       "        vertical-align: top;\n",
       "    }\n",
       "\n",
       "    .dataframe thead th {\n",
       "        text-align: right;\n",
       "    }\n",
       "</style>\n",
       "<table border=\"1\" class=\"dataframe\">\n",
       "  <thead>\n",
       "    <tr style=\"text-align: right;\">\n",
       "      <th></th>\n",
       "      <th>Genes</th>\n",
       "      <th>CT-B1</th>\n",
       "      <th>CT-Z1</th>\n",
       "      <th>FERSHTEH-ABDI</th>\n",
       "      <th>MOH-JAF-NORM</th>\n",
       "      <th>MOH-JAF-WART</th>\n",
       "      <th>avg_ctl</th>\n",
       "    </tr>\n",
       "  </thead>\n",
       "  <tbody>\n",
       "    <tr>\n",
       "      <td>0</td>\n",
       "      <td>AAAS</td>\n",
       "      <td>33.456929</td>\n",
       "      <td>31.594090</td>\n",
       "      <td>52.17486</td>\n",
       "      <td>30.393560</td>\n",
       "      <td>22.836775</td>\n",
       "      <td>32.525510</td>\n",
       "    </tr>\n",
       "    <tr>\n",
       "      <td>1</td>\n",
       "      <td>AAGAB</td>\n",
       "      <td>38.941788</td>\n",
       "      <td>33.185432</td>\n",
       "      <td>42.62874</td>\n",
       "      <td>49.392114</td>\n",
       "      <td>58.597489</td>\n",
       "      <td>36.063610</td>\n",
       "    </tr>\n",
       "    <tr>\n",
       "      <td>2</td>\n",
       "      <td>AAMP</td>\n",
       "      <td>124.793669</td>\n",
       "      <td>95.216369</td>\n",
       "      <td>140.61010</td>\n",
       "      <td>126.100522</td>\n",
       "      <td>116.538709</td>\n",
       "      <td>110.005019</td>\n",
       "    </tr>\n",
       "    <tr>\n",
       "      <td>3</td>\n",
       "      <td>AAR2</td>\n",
       "      <td>45.944214</td>\n",
       "      <td>41.735951</td>\n",
       "      <td>51.55188</td>\n",
       "      <td>42.470841</td>\n",
       "      <td>29.212764</td>\n",
       "      <td>43.840083</td>\n",
       "    </tr>\n",
       "    <tr>\n",
       "      <td>4</td>\n",
       "      <td>AARS</td>\n",
       "      <td>85.398004</td>\n",
       "      <td>76.618349</td>\n",
       "      <td>86.18215</td>\n",
       "      <td>63.341667</td>\n",
       "      <td>74.176160</td>\n",
       "      <td>81.008176</td>\n",
       "    </tr>\n",
       "    <tr>\n",
       "      <td>...</td>\n",
       "      <td>...</td>\n",
       "      <td>...</td>\n",
       "      <td>...</td>\n",
       "      <td>...</td>\n",
       "      <td>...</td>\n",
       "      <td>...</td>\n",
       "      <td>...</td>\n",
       "    </tr>\n",
       "    <tr>\n",
       "      <td>3798</td>\n",
       "      <td>ZSWIM7</td>\n",
       "      <td>17.281256</td>\n",
       "      <td>18.832450</td>\n",
       "      <td>10.81801</td>\n",
       "      <td>22.935337</td>\n",
       "      <td>13.519682</td>\n",
       "      <td>18.056853</td>\n",
       "    </tr>\n",
       "    <tr>\n",
       "      <td>3799</td>\n",
       "      <td>ZSWIM8</td>\n",
       "      <td>82.460735</td>\n",
       "      <td>80.166356</td>\n",
       "      <td>57.40640</td>\n",
       "      <td>54.596319</td>\n",
       "      <td>48.392118</td>\n",
       "      <td>81.313546</td>\n",
       "    </tr>\n",
       "    <tr>\n",
       "      <td>3800</td>\n",
       "      <td>ZW10</td>\n",
       "      <td>43.173211</td>\n",
       "      <td>41.933661</td>\n",
       "      <td>43.55645</td>\n",
       "      <td>53.338094</td>\n",
       "      <td>56.694599</td>\n",
       "      <td>42.553436</td>\n",
       "    </tr>\n",
       "    <tr>\n",
       "      <td>3801</td>\n",
       "      <td>ZXDA</td>\n",
       "      <td>16.207812</td>\n",
       "      <td>22.325806</td>\n",
       "      <td>16.95446</td>\n",
       "      <td>13.350525</td>\n",
       "      <td>6.455086</td>\n",
       "      <td>19.266809</td>\n",
       "    </tr>\n",
       "    <tr>\n",
       "      <td>3802</td>\n",
       "      <td>ZXDB</td>\n",
       "      <td>20.137325</td>\n",
       "      <td>25.118098</td>\n",
       "      <td>17.81948</td>\n",
       "      <td>18.680039</td>\n",
       "      <td>8.988229</td>\n",
       "      <td>22.627711</td>\n",
       "    </tr>\n",
       "  </tbody>\n",
       "</table>\n",
       "<p>3578 rows × 7 columns</p>\n",
       "</div>"
      ],
      "text/plain": [
       "       Genes       CT-B1      CT-Z1  FERSHTEH-ABDI  MOH-JAF-NORM  \\\n",
       "0       AAAS   33.456929  31.594090       52.17486     30.393560   \n",
       "1      AAGAB   38.941788  33.185432       42.62874     49.392114   \n",
       "2       AAMP  124.793669  95.216369      140.61010    126.100522   \n",
       "3       AAR2   45.944214  41.735951       51.55188     42.470841   \n",
       "4       AARS   85.398004  76.618349       86.18215     63.341667   \n",
       "...      ...         ...        ...            ...           ...   \n",
       "3798  ZSWIM7   17.281256  18.832450       10.81801     22.935337   \n",
       "3799  ZSWIM8   82.460735  80.166356       57.40640     54.596319   \n",
       "3800    ZW10   43.173211  41.933661       43.55645     53.338094   \n",
       "3801    ZXDA   16.207812  22.325806       16.95446     13.350525   \n",
       "3802    ZXDB   20.137325  25.118098       17.81948     18.680039   \n",
       "\n",
       "      MOH-JAF-WART     avg_ctl  \n",
       "0        22.836775   32.525510  \n",
       "1        58.597489   36.063610  \n",
       "2       116.538709  110.005019  \n",
       "3        29.212764   43.840083  \n",
       "4        74.176160   81.008176  \n",
       "...            ...         ...  \n",
       "3798     13.519682   18.056853  \n",
       "3799     48.392118   81.313546  \n",
       "3800     56.694599   42.553436  \n",
       "3801      6.455086   19.266809  \n",
       "3802      8.988229   22.627711  \n",
       "\n",
       "[3578 rows x 7 columns]"
      ]
     },
     "execution_count": 43,
     "metadata": {},
     "output_type": "execute_result"
    }
   ],
   "source": [
    "df = pd.read_excel('HouseKeeping genes-Trends in Genetics 29, (2013).xlsx')\n",
    "df\n",
    "df.dropna(inplace = True,axis = 'rows')\n",
    "np.sum(pd.isna(df))\n",
    "df['avg_ctl'] = (df['CT-B1'] + df['CT-Z1'])/2\n",
    "df"
   ]
  },
  {
   "cell_type": "code",
   "execution_count": 44,
   "metadata": {},
   "outputs": [],
   "source": [
    "data = df.values"
   ]
  },
  {
   "cell_type": "code",
   "execution_count": 47,
   "metadata": {},
   "outputs": [],
   "source": [
    "x = data[:,-1].reshape((-1,1))\n",
    "y = data[:,3]"
   ]
  },
  {
   "cell_type": "code",
   "execution_count": 56,
   "metadata": {},
   "outputs": [],
   "source": [
    "from sklearn.pipeline import Pipeline\n",
    "from sklearn.svm import LinearSVR    #for linear regression\n",
    "from sklearn.preprocessing import StandardScaler\n",
    "import matplotlib.pyplot as plt\n",
    "from sklearn.svm import SVR   #for polynomial regression"
   ]
  },
  {
   "cell_type": "code",
   "execution_count": 54,
   "metadata": {},
   "outputs": [
    {
     "data": {
      "text/plain": [
       "<matplotlib.collections.PathCollection at 0x2c7383461c8>"
      ]
     },
     "execution_count": 54,
     "metadata": {},
     "output_type": "execute_result"
    },
    {
     "data": {
      "image/png": "[encoded data removed]",
      "text/plain": [
       "<Figure size 432x288 with 1 Axes>"
      ]
     },
     "metadata": {
      "needs_background": "light"
     },
     "output_type": "display_data"
    }
   ],
   "source": [
    "svm_reg = Pipeline([('scaler',StandardScaler()),('linear_svm',LinearSVR(epsilon = 1.5))])\n",
    "svm_reg.fit(x,y)\n",
    "y_svm_linear = svm_reg.predict(x)\n",
    "plt.plot(x,y_svm_linear,'r--')\n",
    "plt.scatter(x,y)"
   ]
  },
  {
   "cell_type": "code",
   "execution_count": null,
   "metadata": {},
   "outputs": [],
   "source": []
  },
  {
   "cell_type": "code",
   "execution_count": 62,
   "metadata": {},
   "outputs": [
    {
     "data": {
      "text/plain": [
       "<matplotlib.collections.PathCollection at 0x2c760f6d788>"
      ]
     },
     "execution_count": 62,
     "metadata": {},
     "output_type": "execute_result"
    },
    {
     "data": {
      "image/png": "[encoded data removed]",
      "text/plain": [
       "<Figure size 432x288 with 1 Axes>"
      ]
     },
     "metadata": {
      "needs_background": "light"
     },
     "output_type": "display_data"
    }
   ],
   "source": [
    "svm_poly_reg = Pipeline([('scaler',StandardScaler()),('linear_svm',SVR(kernel = 'poly', degree = 2,epsilon = 0.1, C =100))])\n",
    "svm_poly_reg.fit(x,y)\n",
    "y_svm_poly = svm_poly_reg.predict(x)\n",
    "plt.plot(x,y_svm_poly,'r--')\n",
    "plt.scatter(x,y)"
   ]
  },
  {
   "cell_type": "code",
   "execution_count": null,
   "metadata": {},
   "outputs": [],
   "source": []
  },
  {
   "cell_type": "code",
   "execution_count": null,
   "metadata": {},
   "outputs": [],
   "source": []
  },
  {
   "cell_type": "code",
   "execution_count": null,
   "metadata": {},
   "outputs": [],
   "source": []
  }
 ],
 "metadata": {
  "kernelspec": {
   "display_name": "Python 3",
   "language": "python",
   "name": "python3"
  },
  "language_info": {
   "codemirror_mode": {
    "name": "ipython",
    "version": 3
   },
   "file_extension": ".py",
   "mimetype": "text/x-python",
   "name": "python",
   "nbconvert_exporter": "python",
   "pygments_lexer": "ipython3",
   "version": "3.7.4"
  }
 },
 "nbformat": 4,
 "nbformat_minor": 2
}
